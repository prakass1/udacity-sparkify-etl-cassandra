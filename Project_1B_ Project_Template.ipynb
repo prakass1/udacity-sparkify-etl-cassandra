{
 "cells": [
  {
   "cell_type": "markdown",
   "metadata": {},
   "source": [
    "# Part I. ETL Pipeline for Pre-Processing the Files"
   ]
  },
  {
   "cell_type": "markdown",
   "metadata": {},
   "source": [
    "## PLEASE RUN THE FOLLOWING CODE FOR PRE-PROCESSING THE FILES"
   ]
  },
  {
   "cell_type": "markdown",
   "metadata": {},
   "source": [
    "#### Import Python packages "
   ]
  },
  {
   "cell_type": "code",
   "execution_count": 8,
   "metadata": {},
   "outputs": [],
   "source": [
    "# Import Python packages \n",
    "import pandas as pd\n",
    "import cassandra\n",
    "import re\n",
    "import os\n",
    "import glob\n",
    "import numpy as np\n",
    "import json\n",
    "import csv"
   ]
  },
  {
   "cell_type": "markdown",
   "metadata": {},
   "source": [
    "#### Creating list of filepaths to process original event csv data files"
   ]
  },
  {
   "cell_type": "code",
   "execution_count": 9,
   "metadata": {},
   "outputs": [
    {
     "name": "stdout",
     "output_type": "stream",
     "text": [
      "/home/workspace\n"
     ]
    }
   ],
   "source": [
    "# checking your current working directory\n",
    "print(os.getcwd())\n",
    "\n",
    "# Get your current folder and subfolder event data\n",
    "filepath = os.getcwd() + '/event_data'\n",
    "\n",
    "# Create a for loop to create a list of files and collect each filepath\n",
    "for root, dirs, files in os.walk(filepath):\n",
    "    \n",
    "# join the file path and roots with the subdirectories using glob\n",
    "    file_path_list = glob.glob(os.path.join(root,'*'))\n",
    "    #print(file_path_list)"
   ]
  },
  {
   "cell_type": "markdown",
   "metadata": {},
   "source": [
    "#### Processing the files to create the data file csv that will be used for Apache Casssandra tables"
   ]
  },
  {
   "cell_type": "code",
   "execution_count": 10,
   "metadata": {},
   "outputs": [],
   "source": [
    "# initiating an empty list of rows that will be generated from each file\n",
    "full_data_rows_list = [] \n",
    "    \n",
    "# for every filepath in the file path list \n",
    "for f in file_path_list:\n",
    "\n",
    "# reading csv file \n",
    "    with open(f, 'r', encoding = 'utf8', newline='') as csvfile: \n",
    "        # creating a csv reader object \n",
    "        csvreader = csv.reader(csvfile) \n",
    "        next(csvreader)\n",
    "        \n",
    " # extracting each data row one by one and append it        \n",
    "        for line in csvreader:\n",
    "            #print(line)\n",
    "            full_data_rows_list.append(line) \n",
    "            \n",
    "# uncomment the code below if you would like to get total number of rows \n",
    "#print(len(full_data_rows_list))\n",
    "# uncomment the code below if you would like to check to see what the list of event data rows will look like\n",
    "#print(full_data_rows_list)\n",
    "\n",
    "# creating a smaller event data csv file called event_datafile_full csv that will be used to insert data into the \\\n",
    "# Apache Cassandra tables\n",
    "csv.register_dialect('myDialect', quoting=csv.QUOTE_ALL, skipinitialspace=True)\n",
    "\n",
    "with open('event_datafile_new.csv', 'w', encoding = 'utf8', newline='') as f:\n",
    "    writer = csv.writer(f, dialect='myDialect')\n",
    "    writer.writerow(['artist','firstName','gender','itemInSession','lastName','length',\\\n",
    "                'level','location','sessionId','song','userId'])\n",
    "    for row in full_data_rows_list:\n",
    "        if (row[0] == ''):\n",
    "            continue\n",
    "        writer.writerow((row[0], row[2], row[3], row[4], row[5], row[6], row[7], row[8], row[12], row[13], row[16]))\n"
   ]
  },
  {
   "cell_type": "code",
   "execution_count": 11,
   "metadata": {},
   "outputs": [
    {
     "name": "stdout",
     "output_type": "stream",
     "text": [
      "6821\n"
     ]
    }
   ],
   "source": [
    "# check the number of rows in your csv file\n",
    "with open('event_datafile_new.csv', 'r', encoding = 'utf8') as f:\n",
    "    print(sum(1 for line in f))"
   ]
  },
  {
   "cell_type": "markdown",
   "metadata": {},
   "source": [
    "# Part II. Complete the Apache Cassandra coding portion of your project. \n",
    "\n",
    "## Now you are ready to work with the CSV file titled <font color=red>event_datafile_new.csv</font>, located within the Workspace directory.  The event_datafile_new.csv contains the following columns: \n",
    "- artist - 0\n",
    "- firstName of user - 1\n",
    "- gender of user - 2\n",
    "- item number in session - 3 \n",
    "- last name of user- 4\n",
    "- length of the song - 5\n",
    "- level (paid or free song) - 6\n",
    "- location of the user - 7\n",
    "- sessionId - 8\n",
    "- song title - 9\n",
    "- userId - 10\n",
    "\n",
    "The image below is a screenshot of what the denormalized data should appear like in the <font color=red>**event_datafile_new.csv**</font> after the code above is run:<br>\n",
    "\n",
    "<img src=\"images/image_event_datafile_new.jpg\">"
   ]
  },
  {
   "cell_type": "markdown",
   "metadata": {},
   "source": [
    "## Begin writing your Apache Cassandra code in the cells below"
   ]
  },
  {
   "cell_type": "markdown",
   "metadata": {},
   "source": [
    "#### Creating a Cluster"
   ]
  },
  {
   "cell_type": "code",
   "execution_count": 12,
   "metadata": {},
   "outputs": [],
   "source": [
    "# This should make a connection to a Cassandra instance your local machine \n",
    "# (127.0.0.1)\n",
    "from cassandra.cluster import Cluster\n",
    "try: \n",
    "    cluster = Cluster(['127.0.0.1'])\n",
    "    session = cluster.connect()\n",
    "except Exception as e:\n",
    "    print(e)"
   ]
  },
  {
   "cell_type": "markdown",
   "metadata": {},
   "source": [
    "#### Create Keyspace"
   ]
  },
  {
   "cell_type": "code",
   "execution_count": 13,
   "metadata": {},
   "outputs": [],
   "source": [
    "# A Keyspace called sparkify is created\n",
    "try:\n",
    "    session.execute(\"\"\"\n",
    "    CREATE KEYSPACE IF NOT EXISTS sparkify \n",
    "    WITH REPLICATION = \n",
    "    { 'class' : 'SimpleStrategy', 'replication_factor' : 1 }\"\"\"\n",
    ")\n",
    "except Exception as e:\n",
    "    print(e)"
   ]
  },
  {
   "cell_type": "markdown",
   "metadata": {},
   "source": [
    "#### Set Keyspace"
   ]
  },
  {
   "cell_type": "code",
   "execution_count": 14,
   "metadata": {},
   "outputs": [],
   "source": [
    "# TO-DO: Set KEYSPACE to the keyspace specified above\n",
    "try:\n",
    "    session.set_keyspace('sparkify')\n",
    "except Exception as e:\n",
    "    print(e)"
   ]
  },
  {
   "cell_type": "markdown",
   "metadata": {},
   "source": [
    "### Now we need to create tables to run the following queries. Remember, with Apache Cassandra you model the database tables on the queries you want to run."
   ]
  },
  {
   "cell_type": "markdown",
   "metadata": {},
   "source": [
    "## Create queries to ask the following three questions of the data\n",
    "\n",
    "### 1. Give me the artist, song title and song's length in the music app history that was heard during  sessionId = 338, and itemInSession  = 4\n",
    "\n",
    "\n",
    "### 2. Give me only the following: name of artist, song (sorted by itemInSession) and user (first and last name) for userid = 10, sessionid = 182\n",
    "    \n",
    "\n",
    "### 3. Give me every user name (first and last) in my music app history who listened to the song 'All Hands Against His Own'\n",
    "\n",
    "\n"
   ]
  },
  {
   "cell_type": "code",
   "execution_count": 15,
   "metadata": {},
   "outputs": [],
   "source": [
    "\"\"\"\n",
    "For Creation of table for the first query, we are looking at the `WHERE condition` which says that the team requires\n",
    "the artist, song_title, length_of_song based on a session_id and item_in_session.\n",
    "By looking at glance of the data it can be noted that both session_id and item_in_session are repeated. However, \n",
    "session_id has a link with the user_id. So, choose that as the primary key (partition_key) will allow better distribution of the data\n",
    "amongst multiple nodes done through consistent hashing technique thus making faster fetching of results.\n",
    "\n",
    "Finally, the chosen primary key is (session_id, item_in_session)\n",
    "\n",
    "Q1: Give me the artist, song title and song's length in the music app history that was heard during sessionId = 338, and itemInSession = 4\n",
    "\n",
    "\"\"\"\n",
    "query = \"\"\"CREATE TABLE\n",
    "           IF NOT EXISTS songs_by_session_items(\n",
    "           session_id int,\n",
    "           item_in_session int,\n",
    "           artist text,\n",
    "           song_title text,\n",
    "           song_length float,\n",
    "           PRIMARY KEY(session_id, item_in_session)\n",
    "           );\n",
    "\"\"\"\n",
    "try:\n",
    "    session.execute(query)\n",
    "except Exception as e:\n",
    "    print(e)        "
   ]
  },
  {
   "cell_type": "code",
   "execution_count": 16,
   "metadata": {
    "scrolled": false
   },
   "outputs": [],
   "source": [
    "file = 'event_datafile_new.csv'\n",
    "\n",
    "with open(file, encoding = 'utf8') as f:\n",
    "    csvreader = csv.reader(f)\n",
    "    next(csvreader) # skips the header\n",
    "    for line in csvreader:\n",
    "        query = \"INSERT INTO songs_by_session_items(session_id, item_in_session, artist, song_title, song_length) \"\n",
    "        query = query + \"VALUES (%s,%s,%s,%s,%s)\"\n",
    "        session.execute(query, (int(line[8]), int(line[3]), line[0], line[9], float(line[5])))"
   ]
  },
  {
   "cell_type": "markdown",
   "metadata": {},
   "source": [
    "#### Do a SELECT to verify that the data have been inserted into each table"
   ]
  },
  {
   "cell_type": "code",
   "execution_count": 17,
   "metadata": {
    "scrolled": true
   },
   "outputs": [
    {
     "name": "stdout",
     "output_type": "stream",
     "text": [
      "Faithless|Music Matters (Mark Knight Dub)|495.30731201171875\n"
     ]
    }
   ],
   "source": [
    "query = \"\"\"\n",
    "SELECT artist, song_title, song_length\n",
    "FROM songs_by_session_items\n",
    "WHERE session_id=%s and item_in_session=%s;\n",
    "\"\"\"\n",
    "try:\n",
    "    rows = session.execute(query, (338, 4))\n",
    "except Exception as e:\n",
    "    print(e)\n",
    "\n",
    "for row in rows:\n",
    "    print(f\"{row.artist}|{row.song_title}|{row.song_length}\")"
   ]
  },
  {
   "cell_type": "markdown",
   "metadata": {},
   "source": [
    "# Indexing of columns for references\n",
    "```\n",
    "- artist - 0\n",
    "- firstName of user - 1\n",
    "- gender of user - 2 \n",
    "- item number in session - 3 \n",
    "- last name of user- 4\n",
    "- length of the song - 5 \n",
    "- level (paid or free song) - 6 \n",
    "- location of the user - 7 \n",
    "- sessionId - 8 \n",
    "- song title - 9 \n",
    "- userId - 10 \n",
    "```"
   ]
  },
  {
   "cell_type": "markdown",
   "metadata": {},
   "source": [
    "### COPY AND REPEAT THE ABOVE THREE CELLS FOR EACH OF THE THREE QUESTIONS"
   ]
  },
  {
   "cell_type": "code",
   "execution_count": 18,
   "metadata": {},
   "outputs": [],
   "source": [
    "\"\"\"\n",
    "For Creation of table for the second query, we are looking at the `WHERE condition` which says that the team requires\n",
    "the name of artist, song (sorted by itemInSession) and user (first and last name) based on a userid = 10, sessionid = 182.\n",
    "By looking at the glance of the data above, it is can be noticed that session_id is linked with user_id. Therefore, \n",
    "it is better to make both (user_id, session_id) as a composite partition key to not only allow uniqueness but also \n",
    "better placement of data amongst multiple nodes. One thing that will be important is to maintain \n",
    "the same order as the created composite_key in the WHERE clause and then the clustering_columns.\n",
    "\n",
    "Since, the query asks us to sort the data by item_in_session that is included in the clustering_columns as they \n",
    "help in sorting the data in ascending order (alphabetical order). I also test the query with `ORDER BY item_in_session;` \n",
    "this as well works but is not necessary.\n",
    "\n",
    "Finally, the choosen PRIMARY KEY is as ((user_id, session_id), item_in_session)\n",
    "\n",
    "Q2: Give me only the following: name of artist, \n",
    "song (sorted by itemInSession) and user (first and last name) for userid = 10, sessionid = 182\n",
    "\"\"\"\n",
    "query = \"\"\"CREATE TABLE\n",
    "           IF NOT EXISTS songs_by_user_session(\n",
    "           user_id int,\n",
    "           session_id int,\n",
    "           item_in_session int,\n",
    "           first_name text,\n",
    "           last_name text,\n",
    "           artist text,\n",
    "           song_title text,\n",
    "           PRIMARY KEY((user_id, session_id), item_in_session)\n",
    "           );\n",
    "\"\"\"\n",
    "try:\n",
    "    session.execute(query)\n",
    "except Exception as e:\n",
    "    print(e)        "
   ]
  },
  {
   "cell_type": "code",
   "execution_count": 19,
   "metadata": {},
   "outputs": [],
   "source": [
    "file = 'event_datafile_new.csv'\n",
    "\n",
    "with open(file, encoding = 'utf8') as f:\n",
    "    csvreader = csv.reader(f)\n",
    "    next(csvreader) # skips the header\n",
    "    for line in csvreader:\n",
    "        query = \"INSERT INTO songs_by_user_session(user_id, session_id, item_in_session, first_name, last_name, artist, song_title) \"\n",
    "        query = query + \"VALUES (%s,%s,%s,%s,%s,%s,%s)\"\n",
    "        session.execute(query, (int(line[10]), int(line[8]), int(line[3]), line[1], line[4], line[0], line[9]))"
   ]
  },
  {
   "cell_type": "code",
   "execution_count": 20,
   "metadata": {},
   "outputs": [
    {
     "name": "stdout",
     "output_type": "stream",
     "text": [
      "Down To The Bone||Keep On Keepin' On||Sylvie||Cruz\n",
      "Three Drives||Greece 2000||Sylvie||Cruz\n",
      "Sebastien Tellier||Kilometer||Sylvie||Cruz\n",
      "Lonnie Gordon||Catch You Baby (Steve Pitron & Max Sanna Radio Edit)||Sylvie||Cruz\n"
     ]
    }
   ],
   "source": [
    "## TO-DO: Add in the SELECT statement to verify the data was entered into the table\n",
    "query = \"\"\"\n",
    "SELECT artist, song_title, first_name, last_name\n",
    "FROM songs_by_user_session\n",
    "WHERE user_id=%s and session_id=%s;\n",
    "\"\"\"\n",
    "try:\n",
    "    rows = session.execute(query, (10, 182))\n",
    "except Exception as e:\n",
    "    print(e)\n",
    "\n",
    "for row in rows:\n",
    "    print(f\"{row.artist}||{row.song_title}||{row.first_name}||{row.last_name}\")"
   ]
  },
  {
   "cell_type": "code",
   "execution_count": null,
   "metadata": {},
   "outputs": [],
   "source": []
  },
  {
   "cell_type": "code",
   "execution_count": null,
   "metadata": {},
   "outputs": [],
   "source": []
  },
  {
   "cell_type": "code",
   "execution_count": 21,
   "metadata": {},
   "outputs": [],
   "source": [
    "\"\"\"\n",
    "Since, the where condition is based on the song_title to obtain all users who listen to it. The partition key is chosen \n",
    "as song_title. The PRIMARY KEY (song_title, user_id).\n",
    "\n",
    "However, I beleive that this approach could allow overwrite of the data due to the fact that the same song_title could have \n",
    "been listen by many users, and the data gets overriden. Hence, another clustering column who avoid this.\n",
    "\n",
    "I also have tried to create an index based on user_id separately on the table to allow querying only on the user_id. \n",
    "But, I have also read some important information in that regard https://docs.datastax.com/en/cql-oss/3.3/cql/cql_using/useWhenIndex.html\n",
    "\n",
    "Q3: Give me every user name (first and last) in my music app history \n",
    "who listened to the song 'All Hands Against His Own'\n",
    "\"\"\"\n",
    "\n",
    "query = \"\"\"CREATE TABLE\n",
    "           IF NOT EXISTS users_by_song_title(\n",
    "           user_id int,\n",
    "           first_name text,\n",
    "           last_name text,\n",
    "           song_title text,\n",
    "           PRIMARY KEY (song_title, user_id)\n",
    "           );\n",
    "\"\"\"\n",
    "try:\n",
    "    session.execute(query)\n",
    "except Exception as e:\n",
    "    print(e)\n",
    "\n",
    "#query = \"\"\"CREATE INDEX ON music_library2(user_id)\"\"\"\n",
    "\n",
    "#try:\n",
    "#    session.execute(query)\n",
    "#except Exception as e:\n",
    "#    print(e)"
   ]
  },
  {
   "cell_type": "code",
   "execution_count": 22,
   "metadata": {},
   "outputs": [],
   "source": [
    "file = 'event_datafile_new.csv'\n",
    "\n",
    "with open(file, encoding = 'utf8') as f:\n",
    "    csvreader = csv.reader(f)\n",
    "    next(csvreader) # skips the header\n",
    "    for line in csvreader:\n",
    "        query = \"INSERT INTO users_by_song_title(user_id, first_name, last_name, song_title) \"\n",
    "        query = query + \"VALUES (%s, %s,%s,%s)\"\n",
    "        session.execute(query, (int(line[10]), line[1], line[4], line[9]))"
   ]
  },
  {
   "cell_type": "code",
   "execution_count": 23,
   "metadata": {},
   "outputs": [
    {
     "name": "stdout",
     "output_type": "stream",
     "text": [
      "Jacqueline||Lynch\n",
      "Tegan||Levine\n",
      "Sara||Johnson\n"
     ]
    }
   ],
   "source": [
    "query = \"\"\"\n",
    "SELECT first_name, last_name\n",
    "FROM users_by_song_title\n",
    "WHERE song_title=%s;\n",
    "\"\"\"\n",
    "try:\n",
    "    rows = session.execute(query, (\"All Hands Against His Own\",))\n",
    "except Exception as e:\n",
    "    print(e)\n",
    "\n",
    "for row in rows:\n",
    "    print(f\"{row.first_name}||{row.last_name}\")"
   ]
  },
  {
   "cell_type": "markdown",
   "metadata": {},
   "source": [
    "### Drop the tables before closing out the sessions"
   ]
  },
  {
   "cell_type": "code",
   "execution_count": null,
   "metadata": {},
   "outputs": [],
   "source": []
  },
  {
   "cell_type": "code",
   "execution_count": 24,
   "metadata": {},
   "outputs": [],
   "source": [
    "queries = [\"DROP TABLE IF EXISTS songs_by_session_items\", \"DROP TABLE IF EXISTS songs_by_user_session\", \n",
    "           \"DROP TABLE IF EXISTS users_by_song_title\"]\n",
    "try:\n",
    "    for query in queries:\n",
    "        session.execute(query)\n",
    "except Exception as e:\n",
    "    print(e)"
   ]
  },
  {
   "cell_type": "markdown",
   "metadata": {},
   "source": [
    "### Close the session and cluster connection¶"
   ]
  },
  {
   "cell_type": "code",
   "execution_count": 25,
   "metadata": {},
   "outputs": [],
   "source": [
    "session.shutdown()\n",
    "cluster.shutdown()"
   ]
  },
  {
   "cell_type": "code",
   "execution_count": null,
   "metadata": {},
   "outputs": [],
   "source": []
  },
  {
   "cell_type": "code",
   "execution_count": null,
   "metadata": {},
   "outputs": [],
   "source": []
  }
 ],
 "metadata": {
  "kernelspec": {
   "display_name": "Python 3",
   "language": "python",
   "name": "python3"
  },
  "language_info": {
   "codemirror_mode": {
    "name": "ipython",
    "version": 3
   },
   "file_extension": ".py",
   "mimetype": "text/x-python",
   "name": "python",
   "nbconvert_exporter": "python",
   "pygments_lexer": "ipython3",
   "version": "3.6.3"
  }
 },
 "nbformat": 4,
 "nbformat_minor": 2
}
